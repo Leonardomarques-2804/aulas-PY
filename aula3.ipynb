{
  "nbformat": 4,
  "nbformat_minor": 0,
  "metadata": {
    "colab": {
      "provenance": [],
      "toc_visible": true,
      "authorship_tag": "ABX9TyO5QPlQGIQqInELrUD/gEZC",
      "include_colab_link": true
    },
    "kernelspec": {
      "name": "python3",
      "display_name": "Python 3"
    },
    "language_info": {
      "name": "python"
    }
  },
  "cells": [
    {
      "cell_type": "markdown",
      "metadata": {
        "id": "view-in-github",
        "colab_type": "text"
      },
      "source": [
        "<a href=\"https://colab.research.google.com/github/Leonardomarques-2804/aulas-PY/blob/main/aula3.ipynb\" target=\"_parent\"><img src=\"https://colab.research.google.com/assets/colab-badge.svg\" alt=\"Open In Colab\"/></a>"
      ]
    },
    {
      "cell_type": "markdown",
      "source": [
        "#EXERCÍCIO 9 - Imprimindo, Imprimindo,Imprimindo"
      ],
      "metadata": {
        "id": "PC8C5ZC9AL-A"
      }
    },
    {
      "cell_type": "code",
      "source": [
        "days = \"mon tue thu fri sat sun\"\n",
        "months = \"Jan\\nFeb\\nMar\\nApr\\nMay\\nJun\\nJul\\nAgo\\nSet\\nOut\\nNov\\nDez\"\n",
        "\n",
        "print(\"Here are the day: \", days)\n",
        "print(\"Here are the months: \", months)\n",
        "\n",
        "print(\"\"\"\n",
        "there´s something going here.\n",
        "with the three double-quotes.\n",
        "we'll be able to type as much as we like.\n",
        "even 4 line if we want, or 5, or 6.\n",
        "\"\"\")\n"
      ],
      "metadata": {
        "colab": {
          "base_uri": "https://localhost:8080/"
        },
        "id": "5Na49aKaANqZ",
        "outputId": "64f1d7a5-7f41-4ee8-af84-78b0c292381e"
      },
      "execution_count": null,
      "outputs": [
        {
          "output_type": "stream",
          "name": "stdout",
          "text": [
            "Here are the day:  mon tue thu fri sat sun\n",
            "Here are the months:  Jan\n",
            "Feb\n",
            "Mar\n",
            "Apr\n",
            "May\n",
            "Jun\n",
            "Jul\n",
            "Ago\n",
            "Set\n",
            "Out\n",
            "Nov\n",
            "Dez\n",
            "\n",
            "there´s something going here.\n",
            "with the three double-quotes.\n",
            "we'll be able to type as much as we like.\n",
            "even 4 line if we want, or 5, or 6.\n",
            "\n"
          ]
        }
      ]
    },
    {
      "cell_type": "markdown",
      "source": [
        "#Exercício 10 - O que foi isso?"
      ],
      "metadata": {
        "id": "Ywc36Oh1Cgll"
      }
    },
    {
      "cell_type": "code",
      "source": [
        "tabby_cat = \"\\tI'm tabbed in.\"\n",
        "persian_cat = \"I'm split\\non a line.\"\n",
        "backslash_cat = \"I'm \\\\ a_\\\\ cat.\"\n",
        "\n",
        "fat_cat = \"\"\"\n",
        "I'll do a list:\n",
        "\\t* Cat food \\t* Fishies\n",
        "\\t* Catnip\\n\\t* Grass\n",
        "\"\"\"\n",
        "\n",
        "print(tabby_cat)\n",
        "print(persian_cat)\n",
        "print(backslash_cat)\n",
        "print(fat_cat)"
      ],
      "metadata": {
        "colab": {
          "base_uri": "https://localhost:8080/"
        },
        "id": "K_q5WN10DWnW",
        "outputId": "cc7e5b9d-e22e-4eb0-9a56-8a149461b3cd"
      },
      "execution_count": null,
      "outputs": [
        {
          "output_type": "stream",
          "name": "stdout",
          "text": [
            "\tI'm tabbed in.\n",
            "I'm split\n",
            "on a line.\n",
            "I'm \\ a_\\ cat.\n",
            "\n",
            "I'll do a list:\n",
            "\t* Cat food \t* Fishies\n",
            "\t* Catnip\n",
            "\t* Grass\n",
            "\n"
          ]
        }
      ]
    },
    {
      "cell_type": "markdown",
      "source": [
        "#Exercício 11 - Fazendo Perguntas"
      ],
      "metadata": {
        "id": "WbbcguHDEK02"
      }
    },
    {
      "cell_type": "code",
      "source": [
        "print(\"how old are you?\", end=' ')\n",
        "age = input()\n",
        "print(\"how tall are you?\", end=' ')\n",
        "height = input()\n",
        "print(\"how much do you weight?\", end= ' ')\n",
        "weight = input()\n",
        "\n",
        "print(f\"so, you´re {age} old, {height} tall and {weight} heavy.\")"
      ],
      "metadata": {
        "colab": {
          "base_uri": "https://localhost:8080/"
        },
        "id": "T9qV-cUFEi5c",
        "outputId": "62d2039b-dcbc-4c88-e8c9-96b9918ca117"
      },
      "execution_count": null,
      "outputs": [
        {
          "output_type": "stream",
          "name": "stdout",
          "text": [
            "how old are you? 18\n",
            "how tall are you? 180\n",
            "how much do you weight? 70\n",
            "so, you´re 18 old, 180 tall and 70 heavy.\n"
          ]
        }
      ]
    },
    {
      "cell_type": "markdown",
      "source": [
        "#Exercício 12 - Perguntando as pessoas"
      ],
      "metadata": {
        "id": "TSYwzXDdF7mF"
      }
    },
    {
      "cell_type": "code",
      "source": [
        "age = input(\"how old are you? \")\n",
        "height = input(\"how tall are you? \")\n",
        "weight = input(\"how much do you weight \")\n",
        "\n",
        "print(f\"so, you´re {age} old, {height} tall and {weight} heavy.\")"
      ],
      "metadata": {
        "colab": {
          "base_uri": "https://localhost:8080/"
        },
        "id": "rB5cUB0IGB0f",
        "outputId": "29a2a9a1-8e8d-407a-eb40-e951289e96dc"
      },
      "execution_count": null,
      "outputs": [
        {
          "output_type": "stream",
          "name": "stdout",
          "text": [
            "how old are you? 19\n",
            "how tall are you? 183\n",
            "how much do you weight 80\n",
            "so, you´re 19 old, 183 tall and 80 heavy.\n"
          ]
        }
      ]
    },
    {
      "cell_type": "markdown",
      "source": [
        "#Exercício 13 - instrução IF"
      ],
      "metadata": {
        "id": "2kK1tFxMGsUa"
      }
    },
    {
      "cell_type": "code",
      "source": [
        "people = 20\n",
        "cats = 30\n",
        "dogs = 15\n",
        "\n",
        "if people < cats:\n",
        "  print(\"too many cats! the world is doomed!\")\n",
        "\n",
        "if people > cats:\n",
        "    print(\"not many cats! the world is saved!\")\n",
        "\n",
        "if people < dogs:\n",
        "  print(\"the world is drooled on!\")\n",
        "\n",
        "  if people > dogs:\n",
        "    print(\"the world is dry!\")\n",
        "\n",
        "dogs += 5\n",
        "\n",
        "if people >= dogs:\n",
        "  print(\"people are greater than or equal to dogs.\")\n",
        "\n",
        "  if people <= dogs:\n",
        "  print(\"people are less than or equal to dogs.\")\n",
        "\n",
        "  if people == dogs:\n",
        "  print(\"people are dogs.\")\n",
        "\n"
      ],
      "metadata": {
        "id": "joP64hX6Gztl"
      },
      "execution_count": null,
      "outputs": []
    },
    {
      "cell_type": "markdown",
      "source": [
        "## EXERCÍCIO 14 - Else e IF"
      ],
      "metadata": {
        "id": "TCckaWX1AxKp"
      }
    },
    {
      "cell_type": "code",
      "source": [
        "people = 30\n",
        "cars = 40\n",
        "trucks = 15\n",
        "\n",
        "if cars > people:\n",
        "  print(\"We should take the cars.\")\n",
        "elif cars < people:\n",
        "  print(\"We should not take the cars.\")\n",
        "else:\n",
        "  print(\"We can't decide.\")\n",
        "\n",
        "if trucks > cars:\n",
        "  print(\"That's too many trucks.\")\n",
        "elif trucks < cars:\n",
        "  print(\"Maybe we could take the trucks.\")\n",
        "else:\n",
        "  print(\"We still can't decide.\")\n",
        "\n",
        "if people > trucks:\n",
        "  print(\"Alright, let's just take the trucks.\")\n",
        "else:\n",
        "  print(\"Fine, let's stay home then.\")"
      ],
      "metadata": {
        "id": "e044otTDA2QE"
      },
      "execution_count": null,
      "outputs": []
    },
    {
      "cell_type": "markdown",
      "source": [
        "## EXERCÍCIO 15 - Tomando Decisões"
      ],
      "metadata": {
        "id": "jAu80Wc4A5Tl"
      }
    },
    {
      "cell_type": "code",
      "source": [
        "print(\"\"\"You enter a dark room with two doors.\n",
        "        Do you go through door #1 or door #2?\"\"\")\n",
        "\n",
        "door = input(\"> \")\n",
        "\n",
        "if door == \"1\":\n",
        "  print(\"There's a giant bear here eating a cheese cake.\")\n",
        "  print(\"What do you do?\")\n",
        "  print(\"1. Take the cake.\")\n",
        "  print(\"2. Scream at the bear.\")\n",
        "\n",
        "  bear = input(\"> \")\n",
        "\n",
        "  if bear == \"1\":\n",
        "    print(\"The bear eats your face off. Good job!\")\n",
        "  elif bear == \"2\":\n",
        "    print(\"The bear eats your legs off. Good job!\")\n",
        "  else:\n",
        "    print(f\"Weel, doing {bear} is probably better.\")\n",
        "    print(\"Bear runs away\")\n",
        "\n",
        "elif door == \"2\":\n",
        "  print(\"You stare into the endless abyss at Cthulhu's retina.\")\n",
        "  print(\"1. Blueberries.\")\n",
        "  print(\"2. Yellow jacket clothespins.\")\n",
        "  print(\"3. Understanding revolvers yelling melodies.\")\n",
        "\n",
        "  insanity = input(\"> \")\n",
        "\n",
        "  if insanity == \"1\" or insanity == \"2\":\n",
        "    print(\"Your body survives powered by a mind of jello\")\n",
        "    print(\"Good job!\")\n",
        "  else:\n",
        "    print(\"The insanity rots your eyes into a pool of muck.\")\n",
        "    print(\"Good job!\")\n",
        "\n",
        "else:\n",
        "  print(\"You stumble around and fall on a knife and die. Good job!\")"
      ],
      "metadata": {
        "id": "ENjmaYN_A64m"
      },
      "execution_count": null,
      "outputs": []
    }
  ]
}