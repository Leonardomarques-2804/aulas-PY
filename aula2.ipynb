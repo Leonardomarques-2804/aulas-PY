{
  "nbformat": 4,
  "nbformat_minor": 0,
  "metadata": {
    "colab": {
      "provenance": [],
      "authorship_tag": "ABX9TyOhmeR/UriAzF02vNB7dwT7",
      "include_colab_link": true
    },
    "kernelspec": {
      "name": "python3",
      "display_name": "Python 3"
    },
    "language_info": {
      "name": "python"
    }
  },
  "cells": [
    {
      "cell_type": "markdown",
      "metadata": {
        "id": "view-in-github",
        "colab_type": "text"
      },
      "source": [
        "<a href=\"https://colab.research.google.com/github/Leonardomarques-2804/aulas-PY/blob/main/aula2.ipynb\" target=\"_parent\"><img src=\"https://colab.research.google.com/assets/colab-badge.svg\" alt=\"Open In Colab\"/></a>"
      ]
    },
    {
      "cell_type": "markdown",
      "source": [
        "Aula 2 - Tipos de dados, Variaveis"
      ],
      "metadata": {
        "id": "2Kdb0Z5S_3Xk"
      }
    },
    {
      "cell_type": "markdown",
      "source": [
        "## EXERCÍCIO 5 - Mais Variáveis e Impressão\n",
        "Concatenação de variáveis mais texto, uma forma de usar a saída de dados com variáveis;"
      ],
      "metadata": {
        "id": "owekLsbFAFDN"
      }
    },
    {
      "cell_type": "code",
      "source": [
        "Name = 'Zed A. Shaw'\n",
        "Age = 35 #não é mentira\n",
        "Height = 74 #polegadas\n",
        "Weight = 180 #libras\n",
        "Eyes = 'Blue'\n",
        "Teeth = 'White'\n",
        "Hair = 'Brown'\n",
        "\n",
        "print(f\"Let's talk about {Name}.\")\n",
        "print(f\"He's {Height} inches tall .\")\n",
        "print(f\"He's {Weight} poudns heavy.\")\n",
        "print(f\"Actually that's not too heavy.\")\n",
        "print(f\"He's got {Eyes} eyes and {Hair} hair.\")\n",
        "print(f\"His teeth are usually {Teeth} depending on the coffee.\")\n",
        "\n",
        "#essa linha é capciosa, tenta escrever exatamente como esta\n",
        "total = Age + Height + Weight\n",
        "print(f\"If I add {Age}, {Height} and my {Weight} I get {total}.\")"
      ],
      "metadata": {
        "id": "G8jR4JM6AN2C"
      },
      "execution_count": null,
      "outputs": []
    },
    {
      "cell_type": "markdown",
      "source": [
        "## EXERCÍCIO 6 - String e Texto\n",
        "Algumas variáveis, um pouco, complexas e um pouco de trabalho com String dentro de Strings;"
      ],
      "metadata": {
        "id": "lYUvwN-XAQ_s"
      }
    },
    {
      "cell_type": "code",
      "source": [
        "#Atribuição de inteiro em variável\n",
        "type_of_people = 10\n",
        "#Atribuição de string em variável embutida\n",
        "x = f\"There are {type_of_people} type of people.\"\n",
        "#Atribuição de valor textual em variável\n",
        "binary = \"binary\"\n",
        "#atribuição de valor textual a uma variável\n",
        "do_not = \"don't\"\n",
        "#Atribuição de string com variável embutida\n",
        "y = f\"Those who know {binary} and those who {do_not}.\"\n",
        "\n",
        "print(x) #imprime o valor da variável\n",
        "print(y) #imprime o valor da variável\n",
        "\n",
        "print(f\"I' said: {x}\") #imprime um texto com uma variável embutida\n",
        "print(f\"I also said: '{y}'\") #imprime um texto com uma variável embutida\n",
        "\n",
        "hilarious = False #criação de variável com valor booleano\n",
        "joke_evaluetion = \"Isn't that joke so funny?! {}\" #criação de variável com texto e espaço para embutir uma variável sem defini-lá\n",
        "\n",
        "print(joke_evaluetion.format(hilarious)) #uma forma de imprimir a variável textual com uma variável embutida, que eu posso escolher\n",
        "\n",
        "w = \"This is left side of...\" #criação de variável com valor textual\n",
        "e = \"a string with a right side.\" #criação de variável com valor textual\n",
        "\n",
        "print(w + e) #concatena os valores textuais armazenado nas variáveis"
      ],
      "metadata": {
        "id": "2thlMSvsATtu"
      },
      "execution_count": null,
      "outputs": []
    },
    {
      "cell_type": "markdown",
      "source": [
        "## EXERCÍCIO 7 - Mais Impressão\n",
        "Apenas para práticas a digitação e alguns conceitos sobre impressão de strings"
      ],
      "metadata": {
        "id": "hI4rp_dtAXNo"
      }
    },
    {
      "cell_type": "code",
      "source": [
        "print(\"Mary had a little lamb.\") #Imprime um texto fixo\n",
        "print(\"Its fleece was white as {}.\".format('snow')) #imprime um texto com espaço para mudar algo\n",
        "print(\"And everywhere that Mary went.\") #Imprime um texto fixo\n",
        "print(\".\" * 10) #what'd that do? imprime o ponto 10 vezes\n",
        "\n",
        "end1 = \"C\" #armazena dados textuais em variáveis\n",
        "end2 = \"h\"\n",
        "end3 = \"e\"\n",
        "end4 = \"e\"\n",
        "end5 = \"s\"\n",
        "end6 = \"e\"\n",
        "end7 = \"B\"\n",
        "end8 = \"u\"\n",
        "end9 = \"r\"\n",
        "end10 = \"g\"\n",
        "end11 = \"e\"\n",
        "end12 = \"r\"\n",
        "\n",
        "#olhe aquela vírgula no fim. tente removê-la para ver o que acontece\n",
        "print(end1 + end2 + end3 + end4 + end5 + end6, end='') # concatena os valores das variáveis e o final permite ...\n",
        "print(end7 + end8 + end9 + end10 + end11 + end12) #imprimir sem quebra de linha"
      ],
      "metadata": {
        "id": "Bswe4M78AZNS"
      },
      "execution_count": null,
      "outputs": []
    },
    {
      "cell_type": "markdown",
      "source": [
        "## EXERCÍCIO 8 - Imprimindo, Imprimindo\n",
        "Formatação de strings de forma mais complexa"
      ],
      "metadata": {
        "id": "tUsguByjAdPk"
      }
    },
    {
      "cell_type": "code",
      "source": [
        "formatter = \"{} {} {} {}\"\n",
        "\n",
        "print(formatter.format(1, 2, 3, 4))\n",
        "print(formatter.format(\"one\", \"two\", \"three\", \"four\"))\n",
        "print(formatter.format(True, False, False, True))\n",
        "print(formatter.format(formatter, formatter, formatter, formatter))\n",
        "print(formatter.format(\n",
        "    \"Try you\",\n",
        "    \"Own text here\",\n",
        "    \"Maybe a poem\",\n",
        "    \"Or a song about fear\"\n",
        "))"
      ],
      "metadata": {
        "id": "ajjeEsn6AkUY"
      },
      "execution_count": null,
      "outputs": []
    }
  ]
}