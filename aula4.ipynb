{
  "nbformat": 4,
  "nbformat_minor": 0,
  "metadata": {
    "colab": {
      "provenance": [],
      "toc_visible": true,
      "authorship_tag": "ABX9TyMwFIwA1rf+HLjEnLX2h5CJ",
      "include_colab_link": true
    },
    "kernelspec": {
      "name": "python3",
      "display_name": "Python 3"
    },
    "language_info": {
      "name": "python"
    }
  },
  "cells": [
    {
      "cell_type": "markdown",
      "metadata": {
        "id": "view-in-github",
        "colab_type": "text"
      },
      "source": [
        "<a href=\"https://colab.research.google.com/github/Leonardomarques-2804/aulas-PY/blob/main/aula4.ipynb\" target=\"_parent\"><img src=\"https://colab.research.google.com/assets/colab-badge.svg\" alt=\"Open In Colab\"/></a>"
      ]
    },
    {
      "cell_type": "markdown",
      "source": [
        "Aula4\n",
        "\n",
        "\n",
        "*   Laços de repetição\n",
        "*   Listas\n",
        "*   Funções\n",
        "\n",
        "\n",
        "\n",
        "\n",
        "\n",
        "\n",
        "\n",
        "\n",
        "\n"
      ],
      "metadata": {
        "id": "mnEzLl_xwXFu"
      }
    },
    {
      "cell_type": "markdown",
      "source": [
        "##Exercício 16 - Loops e listas\n",
        "\n"
      ],
      "metadata": {
        "id": "PSKZCg95w0nw"
      }
    },
    {
      "cell_type": "code",
      "source": [
        "the_count = [1,2,3,4,5]\n",
        "fruits = ['apples','oranges','pears','apricots']\n",
        "change = [1, 'pennies', 2, 'dimes', 3, 'quarters']\n",
        "\n",
        "for number in the_count:\n",
        "  print(f\"this is count {number}\")\n",
        "\n",
        "  for fruit in fruits:\n",
        "    print(f\"A fruit of type {fruit}}\")\n",
        "\n",
        "for i in change:\n",
        "  print(f\"I got {i}\")\n",
        "\n",
        "  elements = []\n",
        "\n",
        "  for i in range(0,6):\n",
        "    print(f\"adding {i} to the list.\")\n",
        "\n",
        "  elements.append(i)\n",
        "\n",
        "  for i in elements:\n",
        "    print(f\"element was: {i}\")\n"
      ],
      "metadata": {
        "id": "lk_0MkMbw8Lt"
      },
      "execution_count": null,
      "outputs": []
    },
    {
      "cell_type": "markdown",
      "source": [
        "##Exercício 17 - Loops While"
      ],
      "metadata": {
        "id": "E1SRwzqqyTJD"
      }
    },
    {
      "cell_type": "code",
      "source": [
        "i = 0\n",
        "numbers = []\n",
        "\n",
        "while i < 6:\n",
        "  print(f\"at the top i is{i}\")\n",
        "  numbers.append(i)\n",
        "\n",
        "  i = i + 1\n",
        "  print(\"numbers now:\", numbers)\n",
        "  print(f\"at the bottom i is {i}\")\n",
        "\n",
        "print(\"the numbers: \")\n",
        "for num in numbers:\n",
        "  print(num)"
      ],
      "metadata": {
        "id": "F4yF1KKYyavA"
      },
      "execution_count": null,
      "outputs": []
    },
    {
      "cell_type": "markdown",
      "source": [
        "##Exercício 18 - Nomes, Variaveis ,Códigos, Funções"
      ],
      "metadata": {
        "id": "ih3G7HRdy7QU"
      }
    },
    {
      "cell_type": "code",
      "source": [
        "def print_two(*agrs):\n",
        "  arg1, arg2 = args\n",
        "  print(f\"arg: {arg1}, arg2: {arg2}\")\n",
        "\n",
        "def print_two_again(arg1, arg2):\n",
        "  print(f\"arg: {arg1}, arg2: {arg2}\")\n",
        "\n",
        "def print_one(agr1):\n",
        "  print(f\"arg: {arg1}\")\n",
        "\n",
        "def print_none(*agrs):\n",
        "  print(\"I got nothin'.\")\n",
        "\n",
        "print_two(\"zed\", \"shaw\")\n",
        "print_two_again(\"zed\", \"shaw\")\n",
        "print_one(\"First!\")\n",
        "print_two()"
      ],
      "metadata": {
        "id": "EML7XjEWzFPC"
      },
      "execution_count": null,
      "outputs": []
    },
    {
      "cell_type": "markdown",
      "source": [
        "##Exercício 19 - Funções e Variáveis"
      ],
      "metadata": {
        "id": "qtpbawWx0C5p"
      }
    },
    {
      "cell_type": "code",
      "source": [
        "def cheese_and_crackers(cheese_count, boxes_of_crackers):\n",
        "    print(f\"You have {cheese_count} cheeses!\")\n",
        "    print(f\"You have {boxes_of_crackers} boxes of crackers!\")\n",
        "    print(\"Man that's enough for a party!\")\n",
        "    print(\"Get a blanket.\\n\")\n",
        "\n",
        "print(\"We can just give the function numbers directly:\")\n",
        "cheese_and_crackers(20, 30)\n",
        "\n",
        "print(\"OR, we can use variables from our script:\")\n",
        "amount_of_cheese = 10\n",
        "amount_of_crackers = 50\n",
        "\n",
        "cheese_and_crackers(amount_of_cheese, amount_of_crackers)\n",
        "\n",
        "print(\"We can even do math inside too:\")\n",
        "cheese_and_crackers(10 + 20, 5 + 6)\n",
        "\n",
        "print(\"And we can combine the two, variables and math:\")\n",
        "cheese_and_crackers(amount_of_cheese + 100, amount_of_crackers + 1000)"
      ],
      "metadata": {
        "id": "F39e24uT0J4N"
      },
      "execution_count": null,
      "outputs": []
    },
    {
      "cell_type": "markdown",
      "source": [
        "##Exercício 20"
      ],
      "metadata": {
        "id": "ocQWzMMmBgHl"
      }
    },
    {
      "cell_type": "code",
      "source": [
        "def add(a, b):\n",
        "    print(f\"ADDING {a} + {b}\")\n",
        "    return a + b\n",
        "\n",
        "def subtract(a, b):\n",
        "    print(f\"SUBTRACTING {a} - {b}\")\n",
        "    return a - b\n",
        "\n",
        "def multiply(a, b):\n",
        "    print(f\"MULTIPLYING {a} * {b}\")\n",
        "    return a * b\n",
        "\n",
        "def divide(a, b):\n",
        "    print(f\"DIVIDING {a} / {b}\")\n",
        "    return a / b\n",
        "\n",
        "print(\"Let's do some math with just functions!\")\n",
        "\n",
        "age = add(30, 5)\n",
        "height = subtract(78, 4)\n",
        "weight = multiply(90, 2)\n",
        "iq = divide(100, 2)\n",
        "\n",
        "print(f\"Age: {age}, Height: {height}, Weight: {weight}, IQ: {iq}\")\n",
        "\n",
        "# Uma charada para ponto extra, digite isso.\n",
        "print(\"Here is a puzzle.\")\n",
        "what = add(age, subtract(height, multiply(weight, divide(iq, 2))))\n",
        "\n",
        "print(\"That becomes: \", what, \"Can you do it by hand?\")\n"
      ],
      "metadata": {
        "id": "skV38fiYCGR1"
      },
      "execution_count": null,
      "outputs": []
    },
    {
      "cell_type": "markdown",
      "source": [
        "## EXERCÍCIO 21 - Parâmetros, Descompactações e Variáveis"
      ],
      "metadata": {
        "id": "i9TieU_dCJbf"
      }
    },
    {
      "cell_type": "code",
      "source": [
        "from sys import argv\n",
        "script, first, second, third = argv\n",
        "\n",
        "print(\"The script is called: \", script)\n",
        "print(\"Your first variable is: \", first)\n",
        "print(\"Your second variable is: \", second)\n",
        "print(\"Your third variable is: \", third)"
      ],
      "metadata": {
        "id": "wV2OqDOfCMKh"
      },
      "execution_count": null,
      "outputs": []
    },
    {
      "cell_type": "markdown",
      "source": [
        "# Exercício 22 - Parâmetros, Descompactação e Variáveis"
      ],
      "metadata": {
        "id": "581tEYZgCN6q"
      }
    },
    {
      "cell_type": "code",
      "source": [
        "from sys import argv\n",
        "\n",
        "script, user_name = argv\n",
        "prompt = '> '\n",
        "\n",
        "print(f\"Hi {user_name}, I'm the {script} script.\")\n",
        "print(\"I'd like to ask you a few questions.\")\n",
        "print(f\"Do you like me {user_name}?\")\n",
        "likes = input(prompt)\n",
        "\n",
        "print(f\"Where do you live {user_name}?\")\n",
        "lives = input(prompt)\n",
        "\n",
        "print(f\"What kind of computer do you have?\")\n",
        "computer = input(prompt)\n",
        "\n",
        "print(f\"\"\"\n",
        "      Alright, so you said {likes} about liking me.\n",
        "      You live in {lives}. Not sure where that is.\n",
        "      And you have a {computer} computer. Nice.\n",
        "      \"\"\")"
      ],
      "metadata": {
        "id": "3JwJng4wCPxD"
      },
      "execution_count": null,
      "outputs": []
    }
  ]
}