{
  "nbformat": 4,
  "nbformat_minor": 0,
  "metadata": {
    "colab": {
      "provenance": [],
      "authorship_tag": "ABX9TyOfEoVn3MtajeGa3J9TCDas",
      "include_colab_link": true
    },
    "kernelspec": {
      "name": "python3",
      "display_name": "Python 3"
    },
    "language_info": {
      "name": "python"
    }
  },
  "cells": [
    {
      "cell_type": "markdown",
      "metadata": {
        "id": "view-in-github",
        "colab_type": "text"
      },
      "source": [
        "<a href=\"https://colab.research.google.com/github/Leonardomarques-2804/aulas-PY/blob/main/aula1_lp.ipynb\" target=\"_parent\"><img src=\"https://colab.research.google.com/assets/colab-badge.svg\" alt=\"Open In Colab\"/></a>"
      ]
    },
    {
      "cell_type": "markdown",
      "source": [
        "#Aula 01 - apresentação da disciplina"
      ],
      "metadata": {
        "id": "0FN5gfQnph4P"
      }
    },
    {
      "cell_type": "markdown",
      "source": [
        "# **Primeiros passos em python**\n",
        "\n",
        "Vamos realizar os primeiros códigos com a linguagem Python par observar o funcionamento das etapas:\n",
        "\n",
        "\n",
        "\n",
        "1.   Entrada\n",
        "2.   Processamento\n",
        "3.   Saída\n",
        "4.   Comentários\n",
        "\n",
        "\n",
        "\n"
      ],
      "metadata": {
        "id": "BV7qEEaRtT9q"
      }
    },
    {
      "cell_type": "markdown",
      "source": [
        "##Excercício 1 - Um bom programa inicial\n",
        "O primeiro passo para usar linhas de codigo em alguma linguagem(Saída de dados)"
      ],
      "metadata": {
        "id": "md7IvntZu7Qq"
      }
    },
    {
      "cell_type": "code",
      "source": [
        "print(\"hello world!\")\n",
        "print(\"Hello again.\")\n",
        "\n",
        "print(\"I like typing this\")\n",
        "print(\"Yay! Printing.\")\n",
        "\n",
        "print(\"i´d much ratehr you not.\")\n",
        "print(\"i said do not touch this\")\n",
        "\n"
      ],
      "metadata": {
        "colab": {
          "base_uri": "https://localhost:8080/"
        },
        "id": "WDI1Wl1Xteqx",
        "outputId": "f93cd009-7760-4924-c667-308304b906fa"
      },
      "execution_count": null,
      "outputs": [
        {
          "output_type": "stream",
          "name": "stdout",
          "text": [
            "hello world!\n",
            "Hello again.\n",
            "I like typing this\n",
            "Yay! Printing.\n",
            "i´d much ratehr you not.\n",
            "i said do not touch this\n"
          ]
        }
      ]
    },
    {
      "cell_type": "markdown",
      "source": [
        "###Exercício 2 - Comentário e Cerquilhas"
      ],
      "metadata": {
        "id": "RIHlcYyH57Nu"
      }
    },
    {
      "cell_type": "code",
      "source": [
        "#Um comentário, assim voce pode ler seu programa mais tarde\n",
        "#Qualquer coisa depois de # é ignorada pelo python\n",
        "\n",
        "print(\"I could have code like this.\") # e o comentário depois ignorado\n",
        "\n",
        "#voce tambem pode usar um comentário para desabilitar um código:\n",
        "#print(\"this wont run\")\n",
        "\n",
        "print(\"This will run\")"
      ],
      "metadata": {
        "colab": {
          "base_uri": "https://localhost:8080/"
        },
        "id": "SMktxbq9vdar",
        "outputId": "d6f79c0e-2d44-4118-a517-b026e3d22f28"
      },
      "execution_count": null,
      "outputs": [
        {
          "output_type": "stream",
          "name": "stdout",
          "text": [
            "I could have code like this.\n",
            "This will run\n"
          ]
        }
      ]
    },
    {
      "cell_type": "markdown",
      "source": [
        "####Exercício 3 - Números e Matemática\n",
        "Primeiras operações matemáticas, dentro da instrução de saída dados:"
      ],
      "metadata": {
        "id": "txwBu4tz8TYf"
      }
    },
    {
      "cell_type": "code",
      "source": [
        "#Inicia com um texto sobre o que sera feito no resto do programa\n",
        "print(\"I will now count my chickens:\")\n",
        "#irá concatenar o texto entre aspas com o resultado das operações após as virgulas\n",
        "print(\"Hens\", 25 + 30 / 6)\n",
        "print(\"Roosters\", 100 - 25 * 3 % 4)\n",
        "#Inicia com um texto sobre o que sera feito no resto do programa\n",
        "print(\"Now i will count the eggs:\")\n",
        "#irá realizar uma operação matemática\n",
        "print(3 + 2 + 1 - 5 + 4 % 2 - 1 / 4 + 6)\n",
        "#Inicia com um texto sobre o que sera feito no resto do programa\n",
        "print(\"is it true that 3 + 2 < 5 - 7 ?\")\n",
        "#realizar uma operação relacionado em que o resultado é booleano\n",
        "print(3 + 2 < 5 - 7)\n",
        "#Inicia com um texto sobre o que sera feito no resto do programa\n",
        "print(\"whats is 3 + 2?\", 3 + 2)\n",
        "print(\"whats is 5 - 7?\", 5 - 7)\n",
        "#Inicia com um texto sobre o que sera feito no resto do programa\n",
        "print(\"Oh, that´s why it´s false.\")\n",
        "##Inicia com um texto sobre o que sera feito no resto do programa\n",
        "print(\"How about some more.\")\n",
        "#texto com operações relacionais\n",
        "print(\"is it greater?\", 5 > -2)\n",
        "print(\"is it grater or equal?\", 5 >= -2)\n",
        "print(\"is it less or equal?\", 5 <= -2)"
      ],
      "metadata": {
        "colab": {
          "base_uri": "https://localhost:8080/"
        },
        "id": "5Yg2rysL8jCu",
        "outputId": "a29aa4da-b818-48f3-943c-95aa8a2d0962"
      },
      "execution_count": null,
      "outputs": [
        {
          "output_type": "stream",
          "name": "stdout",
          "text": [
            "I will now count my chickens:\n",
            "Hens 30.0\n",
            "Roosters 97\n",
            "Now i will count the eggs:\n",
            "6.75\n",
            "is it true that 3 + 2 < 5 - 7 ?\n",
            "False\n",
            "whats is 3 + 2? 5\n",
            "whats is 5 - 7? -2\n",
            "Oh, that´s why it´s false.\n",
            "How about some more.\n",
            "is it greater? True\n",
            "is it grater or equal? True\n",
            "is it less or equal? False\n"
          ]
        }
      ]
    },
    {
      "cell_type": "markdown",
      "source": [
        "#####Exercício 4 - Variaveis e nomes\n",
        "Como declarar variaveis e seus rótulos\n"
      ],
      "metadata": {
        "id": "QkRBecdGAcAS"
      }
    },
    {
      "cell_type": "code",
      "source": [
        "cars = 100 #atribuindo um numero inteiro\n",
        "spaceinacar = 4.0 #atribuindo um numero real\n",
        "drivers = 30 #atribuindo um numero inteiro\n",
        "passengers = 90 #atribuindo um numero inteiro\n",
        "carsnotdriven = cars - drivers  #operação aritmetica entre inteiros e inteiro\n",
        "carsdriven = drivers #atribuicão de valor entre variaveis sem operações\n",
        "carpoolcapacity = carsdriven * spaceinacar #atribuindo o resultado de uma operação aritmetica entre inteiro e real\n",
        "averagepassengerspercar = passengers / carsdriven #atribuindo o resultado de uma operação aritmetica entre inteiro e inteiro\n",
        "\n",
        "print(\"there are\", cars, \"cars available.\")\n",
        "print(\"there are only\", drivers, \"drivers available\")\n",
        "print(\"there will be\", carsnotdriven, \"empty cars today\")\n",
        "print(\"we can transport\", carpoolcapacity, \"people today\")\n",
        "print(\"we have\", passengers, \"to carpool today\")\n",
        "print(\"we need to put about\", averagepassengerspercar, \"in each car.\")\n",
        "print(10/5)"
      ],
      "metadata": {
        "colab": {
          "base_uri": "https://localhost:8080/"
        },
        "id": "GRaxRAna9QMx",
        "outputId": "bdfdc848-1d66-4915-be59-80c1037d936d"
      },
      "execution_count": null,
      "outputs": [
        {
          "output_type": "stream",
          "name": "stdout",
          "text": [
            "there are 100 cars available.\n",
            "there are only 30 drivers available\n",
            "there will be 70 empty cars today\n",
            "we can transport 120.0 people today\n",
            "we have 90 to carpool today\n",
            "we need to put about 3.0 in each car.\n",
            "2.0\n"
          ]
        }
      ]
    },
    {
      "cell_type": "code",
      "source": [
        "print(\"\")"
      ],
      "metadata": {
        "id": "O6UGw5ElB9Yy"
      },
      "execution_count": null,
      "outputs": []
    }
  ]
}